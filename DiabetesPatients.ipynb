{
 "cells": [
  {
   "cell_type": "code",
   "execution_count": 1,
   "id": "913f0284",
   "metadata": {},
   "outputs": [],
   "source": [
    "# Libs Imports\n",
    "import pandas as pd\n",
    "import numpy as np\n",
    "import seaborn as sns\n",
    "from matplotlib import pyplot as plt\n",
    "from sklearn.model_selection import train_test_split\n",
    "from sklearn import metrics\n",
    "import sys\n",
    "import warnings\n",
    "from pyod.models.knn import KNN\n",
    "from sklearn.preprocessing import Normalizer\n",
    "from imblearn import under_sampling, over_sampling \n",
    "from imblearn.over_sampling import SMOTE\n",
    "from sklearn.ensemble import RandomForestClassifier\n",
    "\n",
    "import tensorflow\n",
    "from tensorflow import keras\n",
    "import keras\n",
    "from keras.models import Sequential\n",
    "from keras.layers import Dense\n",
    "from tensorflow.keras.models import load_model\n",
    "from tensorflow.keras.layers import Dense\n"
   ]
  },
  {
   "cell_type": "code",
   "execution_count": 2,
   "id": "9b476496",
   "metadata": {},
   "outputs": [],
   "source": [
    "# Command to suppress warnings\n",
    "if not sys.warnoptions:\n",
    "    warnings.simplefilter(\"ignore\")"
   ]
  },
  {
   "cell_type": "markdown",
   "id": "d167c21f",
   "metadata": {},
   "source": [
    "# Exploratory analysis"
   ]
  },
  {
   "cell_type": "code",
   "execution_count": 3,
   "id": "70d369d0",
   "metadata": {},
   "outputs": [],
   "source": [
    "# Reading the file\n",
    "df1 = pd.read_csv('diabetes.csv')"
   ]
  },
  {
   "cell_type": "code",
   "execution_count": 4,
   "id": "1e97800e",
   "metadata": {},
   "outputs": [
    {
     "data": {
      "text/html": [
       "<div>\n",
       "<style scoped>\n",
       "    .dataframe tbody tr th:only-of-type {\n",
       "        vertical-align: middle;\n",
       "    }\n",
       "\n",
       "    .dataframe tbody tr th {\n",
       "        vertical-align: top;\n",
       "    }\n",
       "\n",
       "    .dataframe thead th {\n",
       "        text-align: right;\n",
       "    }\n",
       "</style>\n",
       "<table border=\"1\" class=\"dataframe\">\n",
       "  <thead>\n",
       "    <tr style=\"text-align: right;\">\n",
       "      <th></th>\n",
       "      <th>Pregnancies</th>\n",
       "      <th>Glucose</th>\n",
       "      <th>BloodPressure</th>\n",
       "      <th>SkinThickness</th>\n",
       "      <th>Insulin</th>\n",
       "      <th>BMI</th>\n",
       "      <th>DiabetesPedigreeFunction</th>\n",
       "      <th>Age</th>\n",
       "      <th>Outcome</th>\n",
       "    </tr>\n",
       "  </thead>\n",
       "  <tbody>\n",
       "    <tr>\n",
       "      <th>0</th>\n",
       "      <td>6</td>\n",
       "      <td>148</td>\n",
       "      <td>72</td>\n",
       "      <td>35</td>\n",
       "      <td>0</td>\n",
       "      <td>33.6</td>\n",
       "      <td>0.627</td>\n",
       "      <td>50</td>\n",
       "      <td>1</td>\n",
       "    </tr>\n",
       "    <tr>\n",
       "      <th>1</th>\n",
       "      <td>1</td>\n",
       "      <td>85</td>\n",
       "      <td>66</td>\n",
       "      <td>29</td>\n",
       "      <td>0</td>\n",
       "      <td>26.6</td>\n",
       "      <td>0.351</td>\n",
       "      <td>31</td>\n",
       "      <td>0</td>\n",
       "    </tr>\n",
       "    <tr>\n",
       "      <th>2</th>\n",
       "      <td>8</td>\n",
       "      <td>183</td>\n",
       "      <td>64</td>\n",
       "      <td>0</td>\n",
       "      <td>0</td>\n",
       "      <td>23.3</td>\n",
       "      <td>0.672</td>\n",
       "      <td>32</td>\n",
       "      <td>1</td>\n",
       "    </tr>\n",
       "    <tr>\n",
       "      <th>3</th>\n",
       "      <td>1</td>\n",
       "      <td>89</td>\n",
       "      <td>66</td>\n",
       "      <td>23</td>\n",
       "      <td>94</td>\n",
       "      <td>28.1</td>\n",
       "      <td>0.167</td>\n",
       "      <td>21</td>\n",
       "      <td>0</td>\n",
       "    </tr>\n",
       "    <tr>\n",
       "      <th>4</th>\n",
       "      <td>0</td>\n",
       "      <td>137</td>\n",
       "      <td>40</td>\n",
       "      <td>35</td>\n",
       "      <td>168</td>\n",
       "      <td>43.1</td>\n",
       "      <td>2.288</td>\n",
       "      <td>33</td>\n",
       "      <td>1</td>\n",
       "    </tr>\n",
       "  </tbody>\n",
       "</table>\n",
       "</div>"
      ],
      "text/plain": [
       "   Pregnancies  Glucose  BloodPressure  SkinThickness  Insulin   BMI  \\\n",
       "0            6      148             72             35        0  33.6   \n",
       "1            1       85             66             29        0  26.6   \n",
       "2            8      183             64              0        0  23.3   \n",
       "3            1       89             66             23       94  28.1   \n",
       "4            0      137             40             35      168  43.1   \n",
       "\n",
       "   DiabetesPedigreeFunction  Age  Outcome  \n",
       "0                     0.627   50        1  \n",
       "1                     0.351   31        0  \n",
       "2                     0.672   32        1  \n",
       "3                     0.167   21        0  \n",
       "4                     2.288   33        1  "
      ]
     },
     "execution_count": 4,
     "metadata": {},
     "output_type": "execute_result"
    }
   ],
   "source": [
    "df1.head()"
   ]
  },
  {
   "cell_type": "code",
   "execution_count": 5,
   "id": "efa620a6",
   "metadata": {},
   "outputs": [
    {
     "data": {
      "text/plain": [
       "Pregnancies                 0\n",
       "Glucose                     0\n",
       "BloodPressure               0\n",
       "SkinThickness               0\n",
       "Insulin                     0\n",
       "BMI                         0\n",
       "DiabetesPedigreeFunction    0\n",
       "Age                         0\n",
       "Outcome                     0\n",
       "dtype: int64"
      ]
     },
     "execution_count": 5,
     "metadata": {},
     "output_type": "execute_result"
    }
   ],
   "source": [
    "# Null Values Detection\n",
    "df1.isnull().sum()"
   ]
  },
  {
   "cell_type": "code",
   "execution_count": 6,
   "id": "465a2e28",
   "metadata": {},
   "outputs": [
    {
     "data": {
      "text/plain": [
       "Pregnancies                 0\n",
       "Glucose                     0\n",
       "BloodPressure               0\n",
       "SkinThickness               0\n",
       "Insulin                     0\n",
       "BMI                         0\n",
       "DiabetesPedigreeFunction    0\n",
       "Age                         0\n",
       "Outcome                     0\n",
       "dtype: int64"
      ]
     },
     "execution_count": 6,
     "metadata": {},
     "output_type": "execute_result"
    }
   ],
   "source": [
    "# Missing Values Detection\n",
    "df1.isna().sum()"
   ]
  },
  {
   "cell_type": "code",
   "execution_count": 7,
   "id": "3deffe93",
   "metadata": {},
   "outputs": [
    {
     "data": {
      "text/plain": [
       "0"
      ]
     },
     "execution_count": 7,
     "metadata": {},
     "output_type": "execute_result"
    }
   ],
   "source": [
    "# Duplicate Values Detection\n",
    "df1.duplicated().sum()"
   ]
  },
  {
   "cell_type": "code",
   "execution_count": 8,
   "id": "df71b93e",
   "metadata": {},
   "outputs": [
    {
     "data": {
      "text/plain": [
       "<Axes: >"
      ]
     },
     "execution_count": 8,
     "metadata": {},
     "output_type": "execute_result"
    },
    {
     "data": {
      "image/png": "[encoded data removed]",
      "text/plain": [
       "<Figure size 720x504 with 2 Axes>"
      ]
     },
     "metadata": {
      "needs_background": "light"
     },
     "output_type": "display_data"
    }
   ],
   "source": [
    "#correlation - Heat map\n",
    "\n",
    "matriz_correlacao = df1.corr( )\n",
    "plt.figure(figsize = (10, 7))\n",
    "sns.heatmap(matriz_correlacao, annot = True, fmt='.1f')"
   ]
  },
  {
   "cell_type": "code",
   "execution_count": 9,
   "id": "07b023f4",
   "metadata": {},
   "outputs": [],
   "source": [
    "# Separating the variable\n",
    "df2 = df1.iloc[:, 0:8]"
   ]
  },
  {
   "cell_type": "code",
   "execution_count": 10,
   "id": "50be3c8d",
   "metadata": {},
   "outputs": [
    {
     "data": {
      "text/html": [
       "<div>\n",
       "<style scoped>\n",
       "    .dataframe tbody tr th:only-of-type {\n",
       "        vertical-align: middle;\n",
       "    }\n",
       "\n",
       "    .dataframe tbody tr th {\n",
       "        vertical-align: top;\n",
       "    }\n",
       "\n",
       "    .dataframe thead th {\n",
       "        text-align: right;\n",
       "    }\n",
       "</style>\n",
       "<table border=\"1\" class=\"dataframe\">\n",
       "  <thead>\n",
       "    <tr style=\"text-align: right;\">\n",
       "      <th></th>\n",
       "      <th>Pregnancies</th>\n",
       "      <th>Glucose</th>\n",
       "      <th>BloodPressure</th>\n",
       "      <th>SkinThickness</th>\n",
       "      <th>Insulin</th>\n",
       "      <th>BMI</th>\n",
       "      <th>DiabetesPedigreeFunction</th>\n",
       "      <th>Age</th>\n",
       "    </tr>\n",
       "  </thead>\n",
       "  <tbody>\n",
       "    <tr>\n",
       "      <th>0</th>\n",
       "      <td>6</td>\n",
       "      <td>148</td>\n",
       "      <td>72</td>\n",
       "      <td>35</td>\n",
       "      <td>0</td>\n",
       "      <td>33.6</td>\n",
       "      <td>0.627</td>\n",
       "      <td>50</td>\n",
       "    </tr>\n",
       "    <tr>\n",
       "      <th>1</th>\n",
       "      <td>1</td>\n",
       "      <td>85</td>\n",
       "      <td>66</td>\n",
       "      <td>29</td>\n",
       "      <td>0</td>\n",
       "      <td>26.6</td>\n",
       "      <td>0.351</td>\n",
       "      <td>31</td>\n",
       "    </tr>\n",
       "  </tbody>\n",
       "</table>\n",
       "</div>"
      ],
      "text/plain": [
       "   Pregnancies  Glucose  BloodPressure  SkinThickness  Insulin   BMI  \\\n",
       "0            6      148             72             35        0  33.6   \n",
       "1            1       85             66             29        0  26.6   \n",
       "\n",
       "   DiabetesPedigreeFunction  Age  \n",
       "0                     0.627   50  \n",
       "1                     0.351   31  "
      ]
     },
     "execution_count": 10,
     "metadata": {},
     "output_type": "execute_result"
    }
   ],
   "source": [
    "df2.head(2)"
   ]
  },
  {
   "cell_type": "code",
   "execution_count": 11,
   "id": "3bb0997f",
   "metadata": {},
   "outputs": [
    {
     "name": "stdout",
     "output_type": "stream",
     "text": [
      "Pregnancies : int64\n",
      "Glucose : int64\n",
      "BloodPressure : int64\n",
      "SkinThickness : int64\n",
      "Insulin : int64\n",
      "BMI : float64\n",
      "DiabetesPedigreeFunction : float64\n",
      "Age : int64\n"
     ]
    },
    {
     "data": {
      "image/png": "[encoded data removed]",
      "text/plain": [
       "<Figure size 1008x1008 with 8 Axes>"
      ]
     },
     "metadata": {
      "needs_background": "light"
     },
     "output_type": "display_data"
    }
   ],
   "source": [
    "#Loading variables to plot\n",
    "\n",
    "Variables = []\n",
    "for i in df2.columns[0:8].tolist():\n",
    "  #      if df2.dtypes[i] == 'int64' or df2.dtypes[i] == 'float64':            \n",
    "            print(i, ':' , df2.dtypes[i]) \n",
    "            Variables.append(i)\n",
    "  \n",
    "    \n",
    "    \n",
    "plt.rcParams[\"figure.figsize\"] = [14.00, 14.00]\n",
    "plt.rcParams[\"figure.autolayout\"] = True\n",
    "\n",
    "plt.rcParams['font.size'] = 10 \n",
    "plt.rcParams['axes.titlesize'] = 20\n",
    "\n",
    "f, axes = plt.subplots(2, 4) #4 linhas e 3 colunas\n",
    "\n",
    "linha = 0\n",
    "coluna = 0\n",
    "for i in Variables:\n",
    "    sns.boxplot(data = df2, y=i, ax=axes[linha][coluna])\n",
    "    coluna += 1\n",
    "    if coluna == 4:\n",
    "        linha += 1\n",
    "        coluna = 0            \n",
    "\n",
    "plt.show() "
   ]
  },
  {
   "cell_type": "code",
   "execution_count": 12,
   "id": "87ccb25c",
   "metadata": {},
   "outputs": [],
   "source": [
    "# building filter - I used df1 because we need to exclude the lines including the target variable.\n",
    "\n",
    "filter_Pregnacies = df1['Pregnancies'] < 13\n",
    "filter_glucose = df1['Glucose'] > 0\n",
    "filter_BP = df1['BloodPressure'] > 0\n",
    "filter_BMI = df1['BMI'] > 0\n",
    "filter_SkinThickness = df1['SkinThickness'] < 99"
   ]
  },
  {
   "cell_type": "code",
   "execution_count": 13,
   "id": "7720e947",
   "metadata": {},
   "outputs": [],
   "source": [
    "# Aply filter\n",
    "df3 = df1[filter_Pregnacies]\n",
    "df3 = df3[filter_glucose]\n",
    "df3 = df3[filter_BP]\n",
    "df3 = df3[filter_BMI]\n",
    "df3 = df3[filter_SkinThickness]"
   ]
  },
  {
   "cell_type": "code",
   "execution_count": 14,
   "id": "622bb097",
   "metadata": {},
   "outputs": [
    {
     "data": {
      "text/plain": [
       "(710, 9)"
      ]
     },
     "execution_count": 14,
     "metadata": {},
     "output_type": "execute_result"
    }
   ],
   "source": [
    "df3.shape"
   ]
  },
  {
   "cell_type": "code",
   "execution_count": 15,
   "id": "5aef0d21",
   "metadata": {},
   "outputs": [
    {
     "data": {
      "text/plain": [
       "445    63\n",
       "57     60\n",
       "120    56\n",
       "211    54\n",
       "275    52\n",
       "       ..\n",
       "559     0\n",
       "560     0\n",
       "264     0\n",
       "564     0\n",
       "164     0\n",
       "Name: SkinThickness, Length: 710, dtype: int64"
      ]
     },
     "execution_count": 15,
     "metadata": {},
     "output_type": "execute_result"
    }
   ],
   "source": [
    "df3['SkinThickness'].sort_values(ascending=False)"
   ]
  },
  {
   "cell_type": "markdown",
   "id": "c40f4bfc",
   "metadata": {},
   "source": [
    "Next Steps:\n",
    "\n",
    "let's put the predictor variables on the same scale. To do this, we will separate it again into predictor variables and target variables. After placing the predictor variables on the same scale, we will analyze the need to balance the target variable.\n"
   ]
  },
  {
   "cell_type": "code",
   "execution_count": 16,
   "id": "583e292e",
   "metadata": {},
   "outputs": [
    {
     "name": "stdout",
     "output_type": "stream",
     "text": [
      "Pregnancies : int64\n",
      "Glucose : int64\n",
      "BloodPressure : int64\n",
      "SkinThickness : int64\n",
      "Insulin : int64\n",
      "BMI : float64\n",
      "DiabetesPedigreeFunction : float64\n",
      "Age : int64\n"
     ]
    },
    {
     "data": {
      "image/png": "[encoded data removed]",
      "text/plain": [
       "<Figure size 1008x1008 with 8 Axes>"
      ]
     },
     "metadata": {
      "needs_background": "light"
     },
     "output_type": "display_data"
    }
   ],
   "source": [
    "#Loading variables to plot\n",
    "\n",
    "Variables = []\n",
    "for i in df3.columns[0:8].tolist():\n",
    "  #      if df2.dtypes[i] == 'int64' or df2.dtypes[i] == 'float64':            \n",
    "            print(i, ':' , df3.dtypes[i]) \n",
    "            Variables.append(i)\n",
    "  \n",
    "    \n",
    "    \n",
    "plt.rcParams[\"figure.figsize\"] = [14.00, 14.00]\n",
    "plt.rcParams[\"figure.autolayout\"] = True\n",
    "\n",
    "plt.rcParams['font.size'] = 10 \n",
    "plt.rcParams['axes.titlesize'] = 20\n",
    "\n",
    "f, axes = plt.subplots(2, 4) #4 linhas e 3 colunas\n",
    "\n",
    "linha = 0\n",
    "coluna = 0\n",
    "for i in Variables:\n",
    "    sns.boxplot(data = df3, y=i, ax=axes[linha][coluna])\n",
    "    coluna += 1\n",
    "    if coluna == 4:\n",
    "        linha += 1\n",
    "        coluna = 0            \n",
    "\n",
    "plt.show() \n"
   ]
  },
  {
   "cell_type": "code",
   "execution_count": 17,
   "id": "1f2d67c5",
   "metadata": {},
   "outputs": [],
   "source": [
    "# Separating the variable\n",
    "df3_predictor = df3.iloc[:, 0:8]"
   ]
  },
  {
   "cell_type": "code",
   "execution_count": 18,
   "id": "3c1101d8",
   "metadata": {},
   "outputs": [
    {
     "data": {
      "text/plain": [
       "(710, 8)"
      ]
     },
     "execution_count": 18,
     "metadata": {},
     "output_type": "execute_result"
    }
   ],
   "source": [
    "df3_predictor.shape"
   ]
  },
  {
   "cell_type": "code",
   "execution_count": 19,
   "id": "37358712",
   "metadata": {},
   "outputs": [
    {
     "data": {
      "text/html": [
       "<div>\n",
       "<style scoped>\n",
       "    .dataframe tbody tr th:only-of-type {\n",
       "        vertical-align: middle;\n",
       "    }\n",
       "\n",
       "    .dataframe tbody tr th {\n",
       "        vertical-align: top;\n",
       "    }\n",
       "\n",
       "    .dataframe thead th {\n",
       "        text-align: right;\n",
       "    }\n",
       "</style>\n",
       "<table border=\"1\" class=\"dataframe\">\n",
       "  <thead>\n",
       "    <tr style=\"text-align: right;\">\n",
       "      <th></th>\n",
       "      <th>Pregnancies</th>\n",
       "      <th>Glucose</th>\n",
       "      <th>BloodPressure</th>\n",
       "      <th>SkinThickness</th>\n",
       "      <th>Insulin</th>\n",
       "      <th>BMI</th>\n",
       "      <th>DiabetesPedigreeFunction</th>\n",
       "      <th>Age</th>\n",
       "    </tr>\n",
       "  </thead>\n",
       "  <tbody>\n",
       "    <tr>\n",
       "      <th>0</th>\n",
       "      <td>6</td>\n",
       "      <td>148</td>\n",
       "      <td>72</td>\n",
       "      <td>35</td>\n",
       "      <td>0</td>\n",
       "      <td>33.6</td>\n",
       "      <td>0.627</td>\n",
       "      <td>50</td>\n",
       "    </tr>\n",
       "    <tr>\n",
       "      <th>1</th>\n",
       "      <td>1</td>\n",
       "      <td>85</td>\n",
       "      <td>66</td>\n",
       "      <td>29</td>\n",
       "      <td>0</td>\n",
       "      <td>26.6</td>\n",
       "      <td>0.351</td>\n",
       "      <td>31</td>\n",
       "    </tr>\n",
       "    <tr>\n",
       "      <th>2</th>\n",
       "      <td>8</td>\n",
       "      <td>183</td>\n",
       "      <td>64</td>\n",
       "      <td>0</td>\n",
       "      <td>0</td>\n",
       "      <td>23.3</td>\n",
       "      <td>0.672</td>\n",
       "      <td>32</td>\n",
       "    </tr>\n",
       "  </tbody>\n",
       "</table>\n",
       "</div>"
      ],
      "text/plain": [
       "   Pregnancies  Glucose  BloodPressure  SkinThickness  Insulin   BMI  \\\n",
       "0            6      148             72             35        0  33.6   \n",
       "1            1       85             66             29        0  26.6   \n",
       "2            8      183             64              0        0  23.3   \n",
       "\n",
       "   DiabetesPedigreeFunction  Age  \n",
       "0                     0.627   50  \n",
       "1                     0.351   31  \n",
       "2                     0.672   32  "
      ]
     },
     "execution_count": 19,
     "metadata": {},
     "output_type": "execute_result"
    }
   ],
   "source": [
    "df3_predictor.head(3)"
   ]
  },
  {
   "cell_type": "markdown",
   "id": "72ea1821",
   "metadata": {},
   "source": [
    "Normalized (put in the same scale)"
   ]
  },
  {
   "cell_type": "code",
   "execution_count": 20,
   "id": "04860b0a",
   "metadata": {},
   "outputs": [],
   "source": [
    "df3_normalized = df3_predictor"
   ]
  },
  {
   "cell_type": "code",
   "execution_count": 21,
   "id": "197b46ab",
   "metadata": {},
   "outputs": [],
   "source": [
    "df3_normalized = Normalizer().fit_transform(df3_normalized.values)"
   ]
  },
  {
   "cell_type": "code",
   "execution_count": 22,
   "id": "dd932962",
   "metadata": {},
   "outputs": [],
   "source": [
    "df3_normalized = pd.DataFrame(df3_normalized)"
   ]
  },
  {
   "cell_type": "code",
   "execution_count": 23,
   "id": "b7add093",
   "metadata": {},
   "outputs": [
    {
     "data": {
      "text/html": [
       "<div>\n",
       "<style scoped>\n",
       "    .dataframe tbody tr th:only-of-type {\n",
       "        vertical-align: middle;\n",
       "    }\n",
       "\n",
       "    .dataframe tbody tr th {\n",
       "        vertical-align: top;\n",
       "    }\n",
       "\n",
       "    .dataframe thead th {\n",
       "        text-align: right;\n",
       "    }\n",
       "</style>\n",
       "<table border=\"1\" class=\"dataframe\">\n",
       "  <thead>\n",
       "    <tr style=\"text-align: right;\">\n",
       "      <th></th>\n",
       "      <th>0</th>\n",
       "      <th>1</th>\n",
       "      <th>2</th>\n",
       "      <th>3</th>\n",
       "      <th>4</th>\n",
       "      <th>5</th>\n",
       "      <th>6</th>\n",
       "      <th>7</th>\n",
       "    </tr>\n",
       "  </thead>\n",
       "  <tbody>\n",
       "    <tr>\n",
       "      <th>0</th>\n",
       "      <td>0.033552</td>\n",
       "      <td>0.827625</td>\n",
       "      <td>0.402628</td>\n",
       "      <td>0.195722</td>\n",
       "      <td>0.000000</td>\n",
       "      <td>0.187893</td>\n",
       "      <td>0.003506</td>\n",
       "      <td>0.279603</td>\n",
       "    </tr>\n",
       "    <tr>\n",
       "      <th>1</th>\n",
       "      <td>0.008424</td>\n",
       "      <td>0.716040</td>\n",
       "      <td>0.555984</td>\n",
       "      <td>0.244296</td>\n",
       "      <td>0.000000</td>\n",
       "      <td>0.224079</td>\n",
       "      <td>0.002957</td>\n",
       "      <td>0.261144</td>\n",
       "    </tr>\n",
       "    <tr>\n",
       "      <th>2</th>\n",
       "      <td>0.040398</td>\n",
       "      <td>0.924097</td>\n",
       "      <td>0.323181</td>\n",
       "      <td>0.000000</td>\n",
       "      <td>0.000000</td>\n",
       "      <td>0.117658</td>\n",
       "      <td>0.003393</td>\n",
       "      <td>0.161591</td>\n",
       "    </tr>\n",
       "    <tr>\n",
       "      <th>3</th>\n",
       "      <td>0.006612</td>\n",
       "      <td>0.588467</td>\n",
       "      <td>0.436392</td>\n",
       "      <td>0.152076</td>\n",
       "      <td>0.621527</td>\n",
       "      <td>0.185797</td>\n",
       "      <td>0.001104</td>\n",
       "      <td>0.138852</td>\n",
       "    </tr>\n",
       "    <tr>\n",
       "      <th>4</th>\n",
       "      <td>0.000000</td>\n",
       "      <td>0.596386</td>\n",
       "      <td>0.174127</td>\n",
       "      <td>0.152361</td>\n",
       "      <td>0.731335</td>\n",
       "      <td>0.187622</td>\n",
       "      <td>0.009960</td>\n",
       "      <td>0.143655</td>\n",
       "    </tr>\n",
       "  </tbody>\n",
       "</table>\n",
       "</div>"
      ],
      "text/plain": [
       "          0         1         2         3         4         5         6  \\\n",
       "0  0.033552  0.827625  0.402628  0.195722  0.000000  0.187893  0.003506   \n",
       "1  0.008424  0.716040  0.555984  0.244296  0.000000  0.224079  0.002957   \n",
       "2  0.040398  0.924097  0.323181  0.000000  0.000000  0.117658  0.003393   \n",
       "3  0.006612  0.588467  0.436392  0.152076  0.621527  0.185797  0.001104   \n",
       "4  0.000000  0.596386  0.174127  0.152361  0.731335  0.187622  0.009960   \n",
       "\n",
       "          7  \n",
       "0  0.279603  \n",
       "1  0.261144  \n",
       "2  0.161591  \n",
       "3  0.138852  \n",
       "4  0.143655  "
      ]
     },
     "execution_count": 23,
     "metadata": {},
     "output_type": "execute_result"
    }
   ],
   "source": [
    "df3_normalized.head()"
   ]
  },
  {
   "cell_type": "code",
   "execution_count": null,
   "id": "42ab9ad3",
   "metadata": {},
   "outputs": [],
   "source": []
  },
  {
   "cell_type": "code",
   "execution_count": 24,
   "id": "2f054340",
   "metadata": {},
   "outputs": [],
   "source": [
    "df3_normalized.columns = ['Pregnancies', 'Glucose', 'BloodPressure', 'SkinThickness', 'Insulin', 'BMI', 'DiabetesPedigreeFunction', 'Age']"
   ]
  },
  {
   "cell_type": "code",
   "execution_count": 25,
   "id": "b70e38b5",
   "metadata": {},
   "outputs": [
    {
     "data": {
      "text/html": [
       "<div>\n",
       "<style scoped>\n",
       "    .dataframe tbody tr th:only-of-type {\n",
       "        vertical-align: middle;\n",
       "    }\n",
       "\n",
       "    .dataframe tbody tr th {\n",
       "        vertical-align: top;\n",
       "    }\n",
       "\n",
       "    .dataframe thead th {\n",
       "        text-align: right;\n",
       "    }\n",
       "</style>\n",
       "<table border=\"1\" class=\"dataframe\">\n",
       "  <thead>\n",
       "    <tr style=\"text-align: right;\">\n",
       "      <th></th>\n",
       "      <th>Pregnancies</th>\n",
       "      <th>Glucose</th>\n",
       "      <th>BloodPressure</th>\n",
       "      <th>SkinThickness</th>\n",
       "      <th>Insulin</th>\n",
       "      <th>BMI</th>\n",
       "      <th>DiabetesPedigreeFunction</th>\n",
       "      <th>Age</th>\n",
       "    </tr>\n",
       "  </thead>\n",
       "  <tbody>\n",
       "    <tr>\n",
       "      <th>0</th>\n",
       "      <td>0.033552</td>\n",
       "      <td>0.827625</td>\n",
       "      <td>0.402628</td>\n",
       "      <td>0.195722</td>\n",
       "      <td>0.000000</td>\n",
       "      <td>0.187893</td>\n",
       "      <td>0.003506</td>\n",
       "      <td>0.279603</td>\n",
       "    </tr>\n",
       "    <tr>\n",
       "      <th>1</th>\n",
       "      <td>0.008424</td>\n",
       "      <td>0.716040</td>\n",
       "      <td>0.555984</td>\n",
       "      <td>0.244296</td>\n",
       "      <td>0.000000</td>\n",
       "      <td>0.224079</td>\n",
       "      <td>0.002957</td>\n",
       "      <td>0.261144</td>\n",
       "    </tr>\n",
       "    <tr>\n",
       "      <th>2</th>\n",
       "      <td>0.040398</td>\n",
       "      <td>0.924097</td>\n",
       "      <td>0.323181</td>\n",
       "      <td>0.000000</td>\n",
       "      <td>0.000000</td>\n",
       "      <td>0.117658</td>\n",
       "      <td>0.003393</td>\n",
       "      <td>0.161591</td>\n",
       "    </tr>\n",
       "    <tr>\n",
       "      <th>3</th>\n",
       "      <td>0.006612</td>\n",
       "      <td>0.588467</td>\n",
       "      <td>0.436392</td>\n",
       "      <td>0.152076</td>\n",
       "      <td>0.621527</td>\n",
       "      <td>0.185797</td>\n",
       "      <td>0.001104</td>\n",
       "      <td>0.138852</td>\n",
       "    </tr>\n",
       "    <tr>\n",
       "      <th>4</th>\n",
       "      <td>0.000000</td>\n",
       "      <td>0.596386</td>\n",
       "      <td>0.174127</td>\n",
       "      <td>0.152361</td>\n",
       "      <td>0.731335</td>\n",
       "      <td>0.187622</td>\n",
       "      <td>0.009960</td>\n",
       "      <td>0.143655</td>\n",
       "    </tr>\n",
       "  </tbody>\n",
       "</table>\n",
       "</div>"
      ],
      "text/plain": [
       "   Pregnancies   Glucose  BloodPressure  SkinThickness   Insulin       BMI  \\\n",
       "0     0.033552  0.827625       0.402628       0.195722  0.000000  0.187893   \n",
       "1     0.008424  0.716040       0.555984       0.244296  0.000000  0.224079   \n",
       "2     0.040398  0.924097       0.323181       0.000000  0.000000  0.117658   \n",
       "3     0.006612  0.588467       0.436392       0.152076  0.621527  0.185797   \n",
       "4     0.000000  0.596386       0.174127       0.152361  0.731335  0.187622   \n",
       "\n",
       "   DiabetesPedigreeFunction       Age  \n",
       "0                  0.003506  0.279603  \n",
       "1                  0.002957  0.261144  \n",
       "2                  0.003393  0.161591  \n",
       "3                  0.001104  0.138852  \n",
       "4                  0.009960  0.143655  "
      ]
     },
     "execution_count": 25,
     "metadata": {},
     "output_type": "execute_result"
    }
   ],
   "source": [
    "df3_normalized.head()"
   ]
  },
  {
   "cell_type": "markdown",
   "id": "116cb144",
   "metadata": {},
   "source": [
    "Balanced target variable"
   ]
  },
  {
   "cell_type": "code",
   "execution_count": 26,
   "id": "2f7e9b5a",
   "metadata": {},
   "outputs": [
    {
     "data": {
      "text/plain": [
       "Outcome\n",
       "0    470\n",
       "1    240\n",
       "dtype: int64"
      ]
     },
     "execution_count": 26,
     "metadata": {},
     "output_type": "execute_result"
    }
   ],
   "source": [
    "#Now We goin to verify if the target variable is balanced\n",
    "df3.groupby(['Outcome']).size()"
   ]
  },
  {
   "cell_type": "code",
   "execution_count": 27,
   "id": "1d170e19",
   "metadata": {},
   "outputs": [
    {
     "data": {
      "text/plain": [
       "<Axes: title={'center': 'Diabetes Diagnostic'}>"
      ]
     },
     "execution_count": 27,
     "metadata": {},
     "output_type": "execute_result"
    },
    {
     "data": {
      "image/png": "[encoded data removed]",
      "text/plain": [
       "<Figure size 288x288 with 1 Axes>"
      ]
     },
     "metadata": {
      "needs_background": "light"
     },
     "output_type": "display_data"
    }
   ],
   "source": [
    "# Building a graphic to show the diference between diagnostics\n",
    "plt.rcParams['figure.figsize'] = [4, 4]\n",
    "plt.rcParams['figure.autolayout'] = True\n",
    "df3.Outcome.value_counts().plot(kind='bar', title=\"Diabetes Diagnostic\", color = ['#1F77B4','#FF7F0E'])"
   ]
  },
  {
   "cell_type": "code",
   "execution_count": 28,
   "id": "3cacb1d7",
   "metadata": {},
   "outputs": [],
   "source": [
    "target = df3['Outcome']"
   ]
  },
  {
   "cell_type": "code",
   "execution_count": 29,
   "id": "8c4d8782",
   "metadata": {},
   "outputs": [],
   "source": [
    "# It's necssary Smote the target variable\n",
    "\n",
    "# creates the smote balancer\n",
    "balanceador = SMOTE(random_state=100)\n",
    "\n",
    "# Apply balancer\n",
    "predictor_res, target_res = balanceador.fit_resample(df3_normalized, target)\n"
   ]
  },
  {
   "cell_type": "code",
   "execution_count": 30,
   "id": "18ec1360",
   "metadata": {},
   "outputs": [
    {
     "data": {
      "text/plain": [
       "<Axes: title={'center': 'Diabetes Diagnostic'}>"
      ]
     },
     "execution_count": 30,
     "metadata": {},
     "output_type": "execute_result"
    },
    {
     "data": {
      "image/png": "[encoded data removed]",
      "text/plain": [
       "<Figure size 288x288 with 1 Axes>"
      ]
     },
     "metadata": {
      "needs_background": "light"
     },
     "output_type": "display_data"
    }
   ],
   "source": [
    "# Building a graphic to show the diference between diagnostics\n",
    "plt.rcParams['figure.figsize'] = [4, 4]\n",
    "plt.rcParams['figure.autolayout'] = True\n",
    "target_res.value_counts().plot(kind='bar', title=\"Diabetes Diagnostic\", color = ['#1F77B4','#FF7F0E'])"
   ]
  },
  {
   "cell_type": "code",
   "execution_count": 31,
   "id": "61e88d17",
   "metadata": {},
   "outputs": [
    {
     "data": {
      "text/plain": [
       "(710, 8)"
      ]
     },
     "execution_count": 31,
     "metadata": {},
     "output_type": "execute_result"
    }
   ],
   "source": [
    "df3_normalized.shape"
   ]
  },
  {
   "cell_type": "code",
   "execution_count": 32,
   "id": "31058aa8",
   "metadata": {},
   "outputs": [
    {
     "data": {
      "text/plain": [
       "(940, 8)"
      ]
     },
     "execution_count": 32,
     "metadata": {},
     "output_type": "execute_result"
    }
   ],
   "source": [
    "predictor_res.shape"
   ]
  },
  {
   "cell_type": "code",
   "execution_count": 33,
   "id": "116f7fe4",
   "metadata": {},
   "outputs": [
    {
     "data": {
      "text/plain": [
       "(710,)"
      ]
     },
     "execution_count": 33,
     "metadata": {},
     "output_type": "execute_result"
    }
   ],
   "source": [
    "target.shape"
   ]
  },
  {
   "cell_type": "code",
   "execution_count": 34,
   "id": "cb13d387",
   "metadata": {},
   "outputs": [
    {
     "data": {
      "text/plain": [
       "(940,)"
      ]
     },
     "execution_count": 34,
     "metadata": {},
     "output_type": "execute_result"
    }
   ],
   "source": [
    "target_res.shape"
   ]
  },
  {
   "cell_type": "markdown",
   "id": "a51363b8",
   "metadata": {},
   "source": [
    "Separate datas in train and test"
   ]
  },
  {
   "cell_type": "code",
   "execution_count": 35,
   "id": "e3e35b6d",
   "metadata": {},
   "outputs": [],
   "source": [
    "X_train, X_test, Y_train, Y_test = train_test_split(predictor_res, target_res, test_size = 0.3, random_state = 42)"
   ]
  },
  {
   "cell_type": "markdown",
   "id": "28bbf54c",
   "metadata": {},
   "source": [
    "Creating the classifier with Random Forest and testing"
   ]
  },
  {
   "cell_type": "code",
   "execution_count": 36,
   "id": "84b55f0a",
   "metadata": {},
   "outputs": [],
   "source": [
    "# Creating the classifier with Random Forest\n",
    "clf = RandomForestClassifier(n_estimators  = 300,\n",
    "                            max_features='log2',\n",
    "                            )\n",
    "\n",
    "# Model construction\n",
    "clf = clf.fit(X_train, Y_train)"
   ]
  },
  {
   "cell_type": "code",
   "execution_count": 37,
   "id": "d6ddb384",
   "metadata": {},
   "outputs": [],
   "source": [
    "# Checking model accuracy with test data\n",
    "scores = clf.score(X_test,Y_test)"
   ]
  },
  {
   "cell_type": "code",
   "execution_count": 47,
   "id": "c21fefde",
   "metadata": {},
   "outputs": [
    {
     "name": "stdout",
     "output_type": "stream",
     "text": [
      "Accuracy score: 75.18\n"
     ]
    }
   ],
   "source": [
    "print('Accuracy score:', (scores).round(4)*100)"
   ]
  },
  {
   "cell_type": "code",
   "execution_count": null,
   "id": "150821ec",
   "metadata": {},
   "outputs": [],
   "source": [
    "# ---------------------------------------------------------------------------------------------#"
   ]
  },
  {
   "cell_type": "markdown",
   "id": "8dd838ca",
   "metadata": {},
   "source": [
    "Comparing Machine Learning and Deep Learning - Neural Networks"
   ]
  },
  {
   "cell_type": "code",
   "execution_count": 48,
   "id": "0f3a3aca",
   "metadata": {},
   "outputs": [
    {
     "data": {
      "text/plain": [
       "8"
      ]
     },
     "execution_count": 48,
     "metadata": {},
     "output_type": "execute_result"
    }
   ],
   "source": [
    "X_train.shape[1]"
   ]
  },
  {
   "cell_type": "code",
   "execution_count": 49,
   "id": "5586262b",
   "metadata": {},
   "outputs": [
    {
     "data": {
      "text/html": [
       "<div>\n",
       "<style scoped>\n",
       "    .dataframe tbody tr th:only-of-type {\n",
       "        vertical-align: middle;\n",
       "    }\n",
       "\n",
       "    .dataframe tbody tr th {\n",
       "        vertical-align: top;\n",
       "    }\n",
       "\n",
       "    .dataframe thead th {\n",
       "        text-align: right;\n",
       "    }\n",
       "</style>\n",
       "<table border=\"1\" class=\"dataframe\">\n",
       "  <thead>\n",
       "    <tr style=\"text-align: right;\">\n",
       "      <th></th>\n",
       "      <th>Pregnancies</th>\n",
       "      <th>Glucose</th>\n",
       "      <th>BloodPressure</th>\n",
       "      <th>SkinThickness</th>\n",
       "      <th>Insulin</th>\n",
       "      <th>BMI</th>\n",
       "      <th>DiabetesPedigreeFunction</th>\n",
       "      <th>Age</th>\n",
       "    </tr>\n",
       "  </thead>\n",
       "  <tbody>\n",
       "    <tr>\n",
       "      <th>296</th>\n",
       "      <td>0.014559</td>\n",
       "      <td>0.469543</td>\n",
       "      <td>0.218392</td>\n",
       "      <td>0.043678</td>\n",
       "      <td>0.840809</td>\n",
       "      <td>0.100096</td>\n",
       "      <td>0.001918</td>\n",
       "      <td>0.112836</td>\n",
       "    </tr>\n",
       "    <tr>\n",
       "      <th>417</th>\n",
       "      <td>0.000000</td>\n",
       "      <td>0.370746</td>\n",
       "      <td>0.277041</td>\n",
       "      <td>0.130372</td>\n",
       "      <td>0.855568</td>\n",
       "      <td>0.162558</td>\n",
       "      <td>0.001552</td>\n",
       "      <td>0.101853</td>\n",
       "    </tr>\n",
       "  </tbody>\n",
       "</table>\n",
       "</div>"
      ],
      "text/plain": [
       "     Pregnancies   Glucose  BloodPressure  SkinThickness   Insulin       BMI  \\\n",
       "296     0.014559  0.469543       0.218392       0.043678  0.840809  0.100096   \n",
       "417     0.000000  0.370746       0.277041       0.130372  0.855568  0.162558   \n",
       "\n",
       "     DiabetesPedigreeFunction       Age  \n",
       "296                  0.001918  0.112836  \n",
       "417                  0.001552  0.101853  "
      ]
     },
     "execution_count": 49,
     "metadata": {},
     "output_type": "execute_result"
    }
   ],
   "source": [
    "X_train.head(2)"
   ]
  },
  {
   "cell_type": "markdown",
   "id": "b7bed612",
   "metadata": {},
   "source": [
    "Creating the neural network architecture"
   ]
  },
  {
   "cell_type": "code",
   "execution_count": 50,
   "id": "6532b77c",
   "metadata": {},
   "outputs": [
    {
     "name": "stdout",
     "output_type": "stream",
     "text": [
      "Epoch 1/110\n",
      "21/21 [==============================] - 1s 12ms/step - loss: 0.3128 - mae: 0.5013 - accuracy: 0.4985 - val_loss: 0.2624 - val_mae: 0.4977 - val_accuracy: 0.4858\n",
      "Epoch 2/110\n",
      "21/21 [==============================] - 0s 3ms/step - loss: 0.2422 - mae: 0.4863 - accuracy: 0.5745 - val_loss: 0.2393 - val_mae: 0.4832 - val_accuracy: 0.6028\n",
      "Epoch 3/110\n",
      "21/21 [==============================] - 0s 3ms/step - loss: 0.2375 - mae: 0.4811 - accuracy: 0.6049 - val_loss: 0.2327 - val_mae: 0.4766 - val_accuracy: 0.6631\n",
      "Epoch 4/110\n",
      "21/21 [==============================] - 0s 4ms/step - loss: 0.2317 - mae: 0.4726 - accuracy: 0.6368 - val_loss: 0.2297 - val_mae: 0.4703 - val_accuracy: 0.6348\n",
      "Epoch 5/110\n",
      "21/21 [==============================] - 0s 3ms/step - loss: 0.2256 - mae: 0.4650 - accuracy: 0.6489 - val_loss: 0.2223 - val_mae: 0.4620 - val_accuracy: 0.6667\n",
      "Epoch 6/110\n",
      "21/21 [==============================] - 0s 3ms/step - loss: 0.2235 - mae: 0.4586 - accuracy: 0.6398 - val_loss: 0.2178 - val_mae: 0.4531 - val_accuracy: 0.6809\n",
      "Epoch 7/110\n",
      "21/21 [==============================] - 0s 4ms/step - loss: 0.2190 - mae: 0.4510 - accuracy: 0.6581 - val_loss: 0.2147 - val_mae: 0.4480 - val_accuracy: 0.6773\n",
      "Epoch 8/110\n",
      "21/21 [==============================] - 0s 3ms/step - loss: 0.2180 - mae: 0.4476 - accuracy: 0.6535 - val_loss: 0.2127 - val_mae: 0.4452 - val_accuracy: 0.6702\n",
      "Epoch 9/110\n",
      "21/21 [==============================] - 0s 3ms/step - loss: 0.2150 - mae: 0.4418 - accuracy: 0.6611 - val_loss: 0.2139 - val_mae: 0.4426 - val_accuracy: 0.6489\n",
      "Epoch 10/110\n",
      "21/21 [==============================] - 0s 3ms/step - loss: 0.2137 - mae: 0.4364 - accuracy: 0.6748 - val_loss: 0.2079 - val_mae: 0.4362 - val_accuracy: 0.7057\n",
      "Epoch 11/110\n",
      "21/21 [==============================] - 0s 3ms/step - loss: 0.2105 - mae: 0.4327 - accuracy: 0.6793 - val_loss: 0.2209 - val_mae: 0.4376 - val_accuracy: 0.6241\n",
      "Epoch 12/110\n",
      "21/21 [==============================] - 0s 3ms/step - loss: 0.2131 - mae: 0.4291 - accuracy: 0.6641 - val_loss: 0.2105 - val_mae: 0.4331 - val_accuracy: 0.6312\n",
      "Epoch 13/110\n",
      "21/21 [==============================] - 0s 3ms/step - loss: 0.2123 - mae: 0.4295 - accuracy: 0.6687 - val_loss: 0.2049 - val_mae: 0.4292 - val_accuracy: 0.6879\n",
      "Epoch 14/110\n",
      "21/21 [==============================] - 0s 3ms/step - loss: 0.2087 - mae: 0.4290 - accuracy: 0.6793 - val_loss: 0.2029 - val_mae: 0.4264 - val_accuracy: 0.6809\n",
      "Epoch 15/110\n",
      "21/21 [==============================] - 0s 3ms/step - loss: 0.2086 - mae: 0.4247 - accuracy: 0.6763 - val_loss: 0.2047 - val_mae: 0.4258 - val_accuracy: 0.6596\n",
      "Epoch 16/110\n",
      "21/21 [==============================] - 0s 3ms/step - loss: 0.2115 - mae: 0.4240 - accuracy: 0.6611 - val_loss: 0.2176 - val_mae: 0.4206 - val_accuracy: 0.6454\n",
      "Epoch 17/110\n",
      "21/21 [==============================] - 0s 3ms/step - loss: 0.2153 - mae: 0.4227 - accuracy: 0.6809 - val_loss: 0.2127 - val_mae: 0.4224 - val_accuracy: 0.6702\n",
      "Epoch 18/110\n",
      "21/21 [==============================] - 0s 3ms/step - loss: 0.2183 - mae: 0.4266 - accuracy: 0.6581 - val_loss: 0.2015 - val_mae: 0.4262 - val_accuracy: 0.6950\n",
      "Epoch 19/110\n",
      "21/21 [==============================] - 0s 3ms/step - loss: 0.2092 - mae: 0.4241 - accuracy: 0.6687 - val_loss: 0.2109 - val_mae: 0.4262 - val_accuracy: 0.6631\n",
      "Epoch 20/110\n",
      "21/21 [==============================] - 0s 3ms/step - loss: 0.2059 - mae: 0.4140 - accuracy: 0.6839 - val_loss: 0.2028 - val_mae: 0.4201 - val_accuracy: 0.7128\n",
      "Epoch 21/110\n",
      "21/21 [==============================] - 0s 3ms/step - loss: 0.2062 - mae: 0.4171 - accuracy: 0.6809 - val_loss: 0.2013 - val_mae: 0.4180 - val_accuracy: 0.7057\n",
      "Epoch 22/110\n",
      "21/21 [==============================] - 0s 4ms/step - loss: 0.2042 - mae: 0.4166 - accuracy: 0.6854 - val_loss: 0.2014 - val_mae: 0.4183 - val_accuracy: 0.6738\n",
      "Epoch 23/110\n",
      "21/21 [==============================] - 0s 4ms/step - loss: 0.2040 - mae: 0.4133 - accuracy: 0.6854 - val_loss: 0.1998 - val_mae: 0.4161 - val_accuracy: 0.6915\n",
      "Epoch 24/110\n",
      "21/21 [==============================] - 0s 3ms/step - loss: 0.2051 - mae: 0.4157 - accuracy: 0.7006 - val_loss: 0.2129 - val_mae: 0.4184 - val_accuracy: 0.6489\n",
      "Epoch 25/110\n",
      "21/21 [==============================] - 0s 3ms/step - loss: 0.2051 - mae: 0.4089 - accuracy: 0.6809 - val_loss: 0.2035 - val_mae: 0.4161 - val_accuracy: 0.6738\n",
      "Epoch 26/110\n",
      "21/21 [==============================] - 0s 4ms/step - loss: 0.2018 - mae: 0.4111 - accuracy: 0.7006 - val_loss: 0.1983 - val_mae: 0.4149 - val_accuracy: 0.7411\n",
      "Epoch 27/110\n",
      "21/21 [==============================] - 0s 4ms/step - loss: 0.2018 - mae: 0.4097 - accuracy: 0.7036 - val_loss: 0.1994 - val_mae: 0.4129 - val_accuracy: 0.6844\n",
      "Epoch 28/110\n",
      "21/21 [==============================] - 0s 3ms/step - loss: 0.2018 - mae: 0.4085 - accuracy: 0.6976 - val_loss: 0.1977 - val_mae: 0.4132 - val_accuracy: 0.7021\n",
      "Epoch 29/110\n",
      "21/21 [==============================] - 0s 3ms/step - loss: 0.2048 - mae: 0.4128 - accuracy: 0.6991 - val_loss: 0.2003 - val_mae: 0.4134 - val_accuracy: 0.6915\n",
      "Epoch 30/110\n",
      "21/21 [==============================] - 0s 3ms/step - loss: 0.2008 - mae: 0.4077 - accuracy: 0.7052 - val_loss: 0.1985 - val_mae: 0.4118 - val_accuracy: 0.6915\n",
      "Epoch 31/110\n",
      "21/21 [==============================] - 0s 3ms/step - loss: 0.2010 - mae: 0.4069 - accuracy: 0.6976 - val_loss: 0.1990 - val_mae: 0.4105 - val_accuracy: 0.7092\n",
      "Epoch 32/110\n",
      "21/21 [==============================] - 0s 3ms/step - loss: 0.2023 - mae: 0.4064 - accuracy: 0.6824 - val_loss: 0.1972 - val_mae: 0.4106 - val_accuracy: 0.7163\n",
      "Epoch 33/110\n",
      "21/21 [==============================] - 0s 4ms/step - loss: 0.2032 - mae: 0.4082 - accuracy: 0.6915 - val_loss: 0.1971 - val_mae: 0.4096 - val_accuracy: 0.7270\n",
      "Epoch 34/110\n",
      "21/21 [==============================] - 0s 3ms/step - loss: 0.2017 - mae: 0.4056 - accuracy: 0.7082 - val_loss: 0.2092 - val_mae: 0.4125 - val_accuracy: 0.6667\n",
      "Epoch 35/110\n",
      "21/21 [==============================] - 0s 3ms/step - loss: 0.2006 - mae: 0.4015 - accuracy: 0.6854 - val_loss: 0.2098 - val_mae: 0.4126 - val_accuracy: 0.6596\n",
      "Epoch 36/110\n",
      "21/21 [==============================] - 0s 4ms/step - loss: 0.2008 - mae: 0.4057 - accuracy: 0.6991 - val_loss: 0.1958 - val_mae: 0.4078 - val_accuracy: 0.7092\n",
      "Epoch 37/110\n",
      "21/21 [==============================] - 0s 3ms/step - loss: 0.1986 - mae: 0.4018 - accuracy: 0.7052 - val_loss: 0.1985 - val_mae: 0.4081 - val_accuracy: 0.7199\n",
      "Epoch 38/110\n",
      "21/21 [==============================] - 0s 3ms/step - loss: 0.2009 - mae: 0.4042 - accuracy: 0.6991 - val_loss: 0.1956 - val_mae: 0.4082 - val_accuracy: 0.7234\n",
      "Epoch 39/110\n",
      "21/21 [==============================] - 0s 3ms/step - loss: 0.1979 - mae: 0.4001 - accuracy: 0.7036 - val_loss: 0.1961 - val_mae: 0.4039 - val_accuracy: 0.7234\n",
      "Epoch 40/110\n",
      "21/21 [==============================] - 0s 3ms/step - loss: 0.2097 - mae: 0.4106 - accuracy: 0.6854 - val_loss: 0.2015 - val_mae: 0.4100 - val_accuracy: 0.7128\n",
      "Epoch 41/110\n",
      "21/21 [==============================] - 0s 3ms/step - loss: 0.2013 - mae: 0.4042 - accuracy: 0.6960 - val_loss: 0.1964 - val_mae: 0.4097 - val_accuracy: 0.7128\n",
      "Epoch 42/110\n",
      "21/21 [==============================] - 0s 3ms/step - loss: 0.1995 - mae: 0.4046 - accuracy: 0.6991 - val_loss: 0.1974 - val_mae: 0.4102 - val_accuracy: 0.6986\n",
      "Epoch 43/110\n",
      "21/21 [==============================] - 0s 3ms/step - loss: 0.1985 - mae: 0.4023 - accuracy: 0.7097 - val_loss: 0.1965 - val_mae: 0.4058 - val_accuracy: 0.6950\n",
      "Epoch 44/110\n",
      "21/21 [==============================] - 0s 3ms/step - loss: 0.1964 - mae: 0.3986 - accuracy: 0.7021 - val_loss: 0.1976 - val_mae: 0.4047 - val_accuracy: 0.6915\n",
      "Epoch 45/110\n",
      "21/21 [==============================] - 0s 3ms/step - loss: 0.1983 - mae: 0.3995 - accuracy: 0.7036 - val_loss: 0.1953 - val_mae: 0.4039 - val_accuracy: 0.7199\n",
      "Epoch 46/110\n",
      "21/21 [==============================] - 0s 3ms/step - loss: 0.1981 - mae: 0.3981 - accuracy: 0.6930 - val_loss: 0.2005 - val_mae: 0.4048 - val_accuracy: 0.6809\n",
      "Epoch 47/110\n",
      "21/21 [==============================] - 0s 3ms/step - loss: 0.1971 - mae: 0.3967 - accuracy: 0.7021 - val_loss: 0.2029 - val_mae: 0.4073 - val_accuracy: 0.7128\n",
      "Epoch 48/110\n"
     ]
    },
    {
     "name": "stdout",
     "output_type": "stream",
     "text": [
      "21/21 [==============================] - 0s 4ms/step - loss: 0.2030 - mae: 0.4042 - accuracy: 0.6976 - val_loss: 0.1966 - val_mae: 0.4054 - val_accuracy: 0.7305\n",
      "Epoch 49/110\n",
      "21/21 [==============================] - 0s 3ms/step - loss: 0.2006 - mae: 0.4025 - accuracy: 0.7021 - val_loss: 0.1955 - val_mae: 0.4057 - val_accuracy: 0.7234\n",
      "Epoch 50/110\n",
      "21/21 [==============================] - 0s 3ms/step - loss: 0.1979 - mae: 0.4020 - accuracy: 0.6960 - val_loss: 0.2019 - val_mae: 0.4070 - val_accuracy: 0.6773\n",
      "Epoch 51/110\n",
      "21/21 [==============================] - 0s 3ms/step - loss: 0.1977 - mae: 0.3963 - accuracy: 0.6960 - val_loss: 0.1936 - val_mae: 0.4019 - val_accuracy: 0.7305\n",
      "Epoch 52/110\n",
      "21/21 [==============================] - 0s 4ms/step - loss: 0.2013 - mae: 0.3976 - accuracy: 0.6991 - val_loss: 0.1942 - val_mae: 0.4045 - val_accuracy: 0.7163\n",
      "Epoch 53/110\n",
      "21/21 [==============================] - 0s 3ms/step - loss: 0.1984 - mae: 0.4020 - accuracy: 0.7036 - val_loss: 0.1996 - val_mae: 0.4051 - val_accuracy: 0.7057\n",
      "Epoch 54/110\n",
      "21/21 [==============================] - 0s 3ms/step - loss: 0.1963 - mae: 0.3961 - accuracy: 0.6991 - val_loss: 0.2025 - val_mae: 0.4049 - val_accuracy: 0.6879\n",
      "Epoch 55/110\n",
      "21/21 [==============================] - 0s 3ms/step - loss: 0.1959 - mae: 0.3987 - accuracy: 0.7036 - val_loss: 0.2072 - val_mae: 0.4058 - val_accuracy: 0.6809\n",
      "Epoch 56/110\n",
      "21/21 [==============================] - 0s 3ms/step - loss: 0.1958 - mae: 0.3955 - accuracy: 0.7052 - val_loss: 0.1953 - val_mae: 0.4014 - val_accuracy: 0.7021\n",
      "Epoch 57/110\n",
      "21/21 [==============================] - 0s 3ms/step - loss: 0.1932 - mae: 0.3946 - accuracy: 0.7173 - val_loss: 0.1976 - val_mae: 0.3991 - val_accuracy: 0.6915\n",
      "Epoch 58/110\n",
      "21/21 [==============================] - 0s 3ms/step - loss: 0.1941 - mae: 0.3886 - accuracy: 0.7173 - val_loss: 0.1930 - val_mae: 0.3998 - val_accuracy: 0.7199\n",
      "Epoch 59/110\n",
      "21/21 [==============================] - 0s 3ms/step - loss: 0.1943 - mae: 0.3948 - accuracy: 0.7128 - val_loss: 0.1955 - val_mae: 0.3992 - val_accuracy: 0.7092\n",
      "Epoch 60/110\n",
      "21/21 [==============================] - 0s 4ms/step - loss: 0.1934 - mae: 0.3901 - accuracy: 0.7082 - val_loss: 0.1970 - val_mae: 0.3975 - val_accuracy: 0.6986\n",
      "Epoch 61/110\n",
      "21/21 [==============================] - 0s 3ms/step - loss: 0.2020 - mae: 0.3948 - accuracy: 0.6884 - val_loss: 0.1985 - val_mae: 0.4008 - val_accuracy: 0.6950\n",
      "Epoch 62/110\n",
      "21/21 [==============================] - 0s 3ms/step - loss: 0.1971 - mae: 0.3938 - accuracy: 0.6991 - val_loss: 0.1929 - val_mae: 0.4013 - val_accuracy: 0.7128\n",
      "Epoch 63/110\n",
      "21/21 [==============================] - 0s 3ms/step - loss: 0.1928 - mae: 0.3927 - accuracy: 0.7112 - val_loss: 0.1932 - val_mae: 0.3969 - val_accuracy: 0.7199\n",
      "Epoch 64/110\n",
      "21/21 [==============================] - 0s 4ms/step - loss: 0.1919 - mae: 0.3901 - accuracy: 0.7158 - val_loss: 0.1921 - val_mae: 0.3964 - val_accuracy: 0.7270\n",
      "Epoch 65/110\n",
      "21/21 [==============================] - 0s 3ms/step - loss: 0.1921 - mae: 0.3900 - accuracy: 0.7188 - val_loss: 0.1953 - val_mae: 0.3971 - val_accuracy: 0.7057\n",
      "Epoch 66/110\n",
      "21/21 [==============================] - 0s 4ms/step - loss: 0.1905 - mae: 0.3879 - accuracy: 0.7082 - val_loss: 0.1936 - val_mae: 0.3962 - val_accuracy: 0.7376\n",
      "Epoch 67/110\n",
      "21/21 [==============================] - 0s 4ms/step - loss: 0.1916 - mae: 0.3844 - accuracy: 0.7143 - val_loss: 0.1898 - val_mae: 0.3923 - val_accuracy: 0.7305\n",
      "Epoch 68/110\n",
      "21/21 [==============================] - 0s 5ms/step - loss: 0.1904 - mae: 0.3873 - accuracy: 0.7158 - val_loss: 0.1952 - val_mae: 0.3944 - val_accuracy: 0.7057\n",
      "Epoch 69/110\n",
      "21/21 [==============================] - 0s 3ms/step - loss: 0.1909 - mae: 0.3874 - accuracy: 0.7143 - val_loss: 0.1980 - val_mae: 0.3941 - val_accuracy: 0.6915\n",
      "Epoch 70/110\n",
      "21/21 [==============================] - 0s 4ms/step - loss: 0.1902 - mae: 0.3857 - accuracy: 0.7082 - val_loss: 0.1895 - val_mae: 0.3915 - val_accuracy: 0.7340\n",
      "Epoch 71/110\n",
      "21/21 [==============================] - 0s 3ms/step - loss: 0.1913 - mae: 0.3866 - accuracy: 0.7067 - val_loss: 0.1986 - val_mae: 0.3945 - val_accuracy: 0.6950\n",
      "Epoch 72/110\n",
      "21/21 [==============================] - 0s 3ms/step - loss: 0.1943 - mae: 0.3880 - accuracy: 0.7082 - val_loss: 0.2093 - val_mae: 0.3958 - val_accuracy: 0.6631\n",
      "Epoch 73/110\n",
      "21/21 [==============================] - 0s 3ms/step - loss: 0.1909 - mae: 0.3858 - accuracy: 0.7143 - val_loss: 0.1909 - val_mae: 0.3935 - val_accuracy: 0.7270\n",
      "Epoch 74/110\n",
      "21/21 [==============================] - 0s 3ms/step - loss: 0.1885 - mae: 0.3822 - accuracy: 0.7158 - val_loss: 0.1902 - val_mae: 0.3911 - val_accuracy: 0.7270\n",
      "Epoch 75/110\n",
      "21/21 [==============================] - 0s 3ms/step - loss: 0.1920 - mae: 0.3899 - accuracy: 0.7158 - val_loss: 0.1920 - val_mae: 0.3907 - val_accuracy: 0.7199\n",
      "Epoch 76/110\n",
      "21/21 [==============================] - 0s 3ms/step - loss: 0.1901 - mae: 0.3791 - accuracy: 0.7067 - val_loss: 0.1937 - val_mae: 0.3904 - val_accuracy: 0.6986\n",
      "Epoch 77/110\n",
      "21/21 [==============================] - 0s 3ms/step - loss: 0.1911 - mae: 0.3864 - accuracy: 0.7143 - val_loss: 0.1962 - val_mae: 0.3900 - val_accuracy: 0.7021\n",
      "Epoch 78/110\n",
      "21/21 [==============================] - 0s 3ms/step - loss: 0.1899 - mae: 0.3850 - accuracy: 0.7249 - val_loss: 0.1891 - val_mae: 0.3919 - val_accuracy: 0.7340\n",
      "Epoch 79/110\n",
      "21/21 [==============================] - 0s 3ms/step - loss: 0.1897 - mae: 0.3860 - accuracy: 0.7097 - val_loss: 0.1908 - val_mae: 0.3916 - val_accuracy: 0.7340\n",
      "Epoch 80/110\n",
      "21/21 [==============================] - 0s 3ms/step - loss: 0.1869 - mae: 0.3856 - accuracy: 0.7188 - val_loss: 0.1884 - val_mae: 0.3880 - val_accuracy: 0.7270\n",
      "Epoch 81/110\n",
      "21/21 [==============================] - 0s 3ms/step - loss: 0.1906 - mae: 0.3809 - accuracy: 0.7264 - val_loss: 0.1905 - val_mae: 0.3911 - val_accuracy: 0.7340\n",
      "Epoch 82/110\n",
      "21/21 [==============================] - 0s 3ms/step - loss: 0.1922 - mae: 0.3885 - accuracy: 0.7052 - val_loss: 0.1895 - val_mae: 0.3887 - val_accuracy: 0.7234\n",
      "Epoch 83/110\n",
      "21/21 [==============================] - 0s 3ms/step - loss: 0.1870 - mae: 0.3803 - accuracy: 0.7173 - val_loss: 0.1974 - val_mae: 0.3882 - val_accuracy: 0.6986\n",
      "Epoch 84/110\n",
      "21/21 [==============================] - 0s 4ms/step - loss: 0.1874 - mae: 0.3809 - accuracy: 0.7280 - val_loss: 0.1867 - val_mae: 0.3857 - val_accuracy: 0.7553\n",
      "Epoch 85/110\n",
      "21/21 [==============================] - 0s 3ms/step - loss: 0.1846 - mae: 0.3776 - accuracy: 0.7249 - val_loss: 0.2043 - val_mae: 0.3875 - val_accuracy: 0.6702\n",
      "Epoch 86/110\n",
      "21/21 [==============================] - 0s 4ms/step - loss: 0.1869 - mae: 0.3779 - accuracy: 0.7219 - val_loss: 0.1943 - val_mae: 0.3848 - val_accuracy: 0.7163\n",
      "Epoch 87/110\n",
      "21/21 [==============================] - 0s 3ms/step - loss: 0.1878 - mae: 0.3826 - accuracy: 0.7249 - val_loss: 0.1909 - val_mae: 0.3850 - val_accuracy: 0.7092\n",
      "Epoch 88/110\n",
      "21/21 [==============================] - 0s 3ms/step - loss: 0.1860 - mae: 0.3752 - accuracy: 0.7310 - val_loss: 0.1895 - val_mae: 0.3880 - val_accuracy: 0.7376\n",
      "Epoch 89/110\n",
      "21/21 [==============================] - 0s 3ms/step - loss: 0.1874 - mae: 0.3768 - accuracy: 0.7280 - val_loss: 0.1939 - val_mae: 0.3855 - val_accuracy: 0.6950\n",
      "Epoch 90/110\n",
      "21/21 [==============================] - 0s 3ms/step - loss: 0.1873 - mae: 0.3833 - accuracy: 0.7219 - val_loss: 0.1868 - val_mae: 0.3872 - val_accuracy: 0.7340\n",
      "Epoch 91/110\n",
      "21/21 [==============================] - 0s 3ms/step - loss: 0.1854 - mae: 0.3777 - accuracy: 0.7280 - val_loss: 0.1853 - val_mae: 0.3813 - val_accuracy: 0.7482\n",
      "Epoch 92/110\n",
      "21/21 [==============================] - 0s 3ms/step - loss: 0.1854 - mae: 0.3754 - accuracy: 0.7280 - val_loss: 0.1881 - val_mae: 0.3853 - val_accuracy: 0.7340\n",
      "Epoch 93/110\n",
      "21/21 [==============================] - 0s 4ms/step - loss: 0.1876 - mae: 0.3780 - accuracy: 0.7052 - val_loss: 0.1850 - val_mae: 0.3822 - val_accuracy: 0.7376\n",
      "Epoch 94/110\n",
      "21/21 [==============================] - 0s 3ms/step - loss: 0.1842 - mae: 0.3771 - accuracy: 0.7219 - val_loss: 0.1901 - val_mae: 0.3865 - val_accuracy: 0.7411\n",
      "Epoch 95/110\n"
     ]
    },
    {
     "name": "stdout",
     "output_type": "stream",
     "text": [
      "21/21 [==============================] - 0s 3ms/step - loss: 0.1817 - mae: 0.3695 - accuracy: 0.7416 - val_loss: 0.1877 - val_mae: 0.3786 - val_accuracy: 0.7128\n",
      "Epoch 96/110\n",
      "21/21 [==============================] - 0s 3ms/step - loss: 0.1813 - mae: 0.3753 - accuracy: 0.7371 - val_loss: 0.1851 - val_mae: 0.3817 - val_accuracy: 0.7411\n",
      "Epoch 97/110\n",
      "21/21 [==============================] - 0s 3ms/step - loss: 0.1861 - mae: 0.3756 - accuracy: 0.7264 - val_loss: 0.1851 - val_mae: 0.3787 - val_accuracy: 0.7376\n",
      "Epoch 98/110\n",
      "21/21 [==============================] - 0s 3ms/step - loss: 0.1808 - mae: 0.3728 - accuracy: 0.7356 - val_loss: 0.1845 - val_mae: 0.3795 - val_accuracy: 0.7376\n",
      "Epoch 99/110\n",
      "21/21 [==============================] - 0s 4ms/step - loss: 0.1828 - mae: 0.3772 - accuracy: 0.7280 - val_loss: 0.1823 - val_mae: 0.3740 - val_accuracy: 0.7482\n",
      "Epoch 100/110\n",
      "21/21 [==============================] - 0s 4ms/step - loss: 0.1806 - mae: 0.3672 - accuracy: 0.7401 - val_loss: 0.1934 - val_mae: 0.3772 - val_accuracy: 0.7092\n",
      "Epoch 101/110\n",
      "21/21 [==============================] - 0s 3ms/step - loss: 0.1804 - mae: 0.3723 - accuracy: 0.7219 - val_loss: 0.1884 - val_mae: 0.3787 - val_accuracy: 0.7340\n",
      "Epoch 102/110\n",
      "21/21 [==============================] - 0s 3ms/step - loss: 0.1829 - mae: 0.3711 - accuracy: 0.7264 - val_loss: 0.1894 - val_mae: 0.3792 - val_accuracy: 0.7199\n",
      "Epoch 103/110\n",
      "21/21 [==============================] - 0s 3ms/step - loss: 0.1800 - mae: 0.3701 - accuracy: 0.7371 - val_loss: 0.1857 - val_mae: 0.3778 - val_accuracy: 0.7376\n",
      "Epoch 104/110\n",
      "21/21 [==============================] - 0s 4ms/step - loss: 0.1793 - mae: 0.3686 - accuracy: 0.7356 - val_loss: 0.1815 - val_mae: 0.3721 - val_accuracy: 0.7447\n",
      "Epoch 105/110\n",
      "21/21 [==============================] - 0s 3ms/step - loss: 0.1785 - mae: 0.3644 - accuracy: 0.7371 - val_loss: 0.1823 - val_mae: 0.3764 - val_accuracy: 0.7518\n",
      "Epoch 106/110\n",
      "21/21 [==============================] - 0s 3ms/step - loss: 0.1790 - mae: 0.3691 - accuracy: 0.7477 - val_loss: 0.1829 - val_mae: 0.3774 - val_accuracy: 0.7411\n",
      "Epoch 107/110\n",
      "21/21 [==============================] - 0s 3ms/step - loss: 0.1775 - mae: 0.3666 - accuracy: 0.7340 - val_loss: 0.1811 - val_mae: 0.3722 - val_accuracy: 0.7411\n",
      "Epoch 108/110\n",
      "21/21 [==============================] - 0s 3ms/step - loss: 0.1784 - mae: 0.3626 - accuracy: 0.7295 - val_loss: 0.1848 - val_mae: 0.3772 - val_accuracy: 0.7447\n",
      "Epoch 109/110\n",
      "21/21 [==============================] - 0s 3ms/step - loss: 0.1782 - mae: 0.3690 - accuracy: 0.7553 - val_loss: 0.1923 - val_mae: 0.3784 - val_accuracy: 0.7199\n",
      "Epoch 110/110\n",
      "21/21 [==============================] - 0s 3ms/step - loss: 0.1846 - mae: 0.3717 - accuracy: 0.7310 - val_loss: 0.1831 - val_mae: 0.3744 - val_accuracy: 0.7411\n"
     ]
    }
   ],
   "source": [
    "model_nn = Sequential()\n",
    "model_nn.add(Dense(units=128, activation='relu', input_dim = X_train.shape[1]))\n",
    "model_nn.add(Dense(units=64, activation='relu')),\n",
    "model_nn.add(Dense(units=1, activation='linear'))\n",
    "\n",
    "# training the neural network:  \n",
    "model_nn.compile(loss = 'mse', optimizer = 'adam' , metrics=['mae', 'accuracy'])\n",
    "\n",
    "results_nn = model_nn.fit(X_train, Y_train,\n",
    "                       epochs= 110,\n",
    "                       batch_size= 32,\n",
    "         \n",
    "                         validation_data= (X_test, Y_test)\n",
    "                      )"
   ]
  },
  {
   "cell_type": "code",
   "execution_count": 72,
   "id": "951b16b9",
   "metadata": {},
   "outputs": [
    {
     "name": "stdout",
     "output_type": "stream",
     "text": [
      "9/9 [==============================] - 0s 2ms/step - loss: 0.1831 - mae: 0.3744 - accuracy: 0.7411\n",
      "Loss test: 0.18311181664466858\n",
      "Accuracy score: 0.741134762763977\n"
     ]
    }
   ],
   "source": [
    "loss_test,mae_test, accuracy_test = model_nn.evaluate(X_test, Y_test)\n",
    "\n",
    "print('Loss test:', loss_test)\n",
    "print('Accuracy score:', accuracy_test)"
   ]
  },
  {
   "cell_type": "code",
   "execution_count": 57,
   "id": "56eb0bda",
   "metadata": {},
   "outputs": [
    {
     "data": {
      "image/png": "[encoded data removed]",
      "text/plain": [
       "<Figure size 720x504 with 1 Axes>"
      ]
     },
     "metadata": {
      "needs_background": "light"
     },
     "output_type": "display_data"
    }
   ],
   "source": [
    "# plotar training history graph\n",
    "plt.figure(figsize = (10, 7))\n",
    "plt.plot(results_nn.history['loss'])\n",
    "plt.plot(results_nn.history['val_loss'])\n",
    "plt.title(\"Training History\")\n",
    "plt.ylabel('Loss Function')\n",
    "plt.xlabel('Epochs')\n",
    "plt.legend(['Loss training', 'Loss test'])\n",
    "plt.show()"
   ]
  },
  {
   "cell_type": "code",
   "execution_count": 58,
   "id": "8c2a1fc5",
   "metadata": {},
   "outputs": [
    {
     "data": {
      "image/png": "[encoded data removed]",
      "text/plain": [
       "<Figure size 720x504 with 1 Axes>"
      ]
     },
     "metadata": {
      "needs_background": "light"
     },
     "output_type": "display_data"
    }
   ],
   "source": [
    "# plotar training history graph\n",
    "plt.figure(figsize = (10, 7))\n",
    "plt.plot(results_nn.history['accuracy'])\n",
    "plt.plot(results_nn.history['val_accuracy'])\n",
    "plt.title(\"Training History\")\n",
    "plt.xlabel('Épochs')\n",
    "plt.ylabel('Accuracy')\n",
    "plt.legend(['training', 'test'])\n",
    "plt.show()"
   ]
  },
  {
   "cell_type": "markdown",
   "id": "0ccb292e",
   "metadata": {},
   "source": [
    " Machine Learning(Randon Forest) vs Deep Learning (Neural Networking)"
   ]
  },
  {
   "cell_type": "code",
   "execution_count": 96,
   "id": "76a3dd17",
   "metadata": {},
   "outputs": [
    {
     "name": "stdout",
     "output_type": "stream",
     "text": [
      "Machine Learning (Random Forest) = 75.18\n",
      "Deep Learning (Neural NetWorking) = 74.11%\n"
     ]
    }
   ],
   "source": [
    "print('Machine Learning (Random Forest) =', (scores).round(4)*100)\n",
    "\n",
    "print(\"Deep Learning (Neural NetWorking) = %.2f%%\" %((accuracy_test)*100))                            "
   ]
  },
  {
   "cell_type": "code",
   "execution_count": null,
   "id": "3b60965b",
   "metadata": {},
   "outputs": [],
   "source": []
  }
 ],
 "metadata": {
  "kernelspec": {
   "display_name": "Python 3 (ipykernel)",
   "language": "python",
   "name": "python3"
  },
  "language_info": {
   "codemirror_mode": {
    "name": "ipython",
    "version": 3
   },
   "file_extension": ".py",
   "mimetype": "text/x-python",
   "name": "python",
   "nbconvert_exporter": "python",
   "pygments_lexer": "ipython3",
   "version": "3.10.6"
  }
 },
 "nbformat": 4,
 "nbformat_minor": 5
}
